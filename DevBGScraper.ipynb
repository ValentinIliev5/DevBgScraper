{
 "cells": [
  {
   "cell_type": "code",
   "execution_count": 37,
   "id": "364d6345-a572-4a58-9a39-891ed421b046",
   "metadata": {},
   "outputs": [],
   "source": [
    "from bs4 import BeautifulSoup as bs\n",
    "from selenium import webdriver\n",
    "import time\n",
    "import requests\n",
    "import pandas as pd"
   ]
  },
  {
   "cell_type": "code",
   "execution_count": 38,
   "id": "1752a2d8-34ff-4b8f-ae59-115a291ed974",
   "metadata": {},
   "outputs": [
    {
     "data": {
      "text/plain": [
       "['https://dev.bg/company/jobs/back-end-development/',\n",
       " 'https://dev.bg/company/jobs/operations/',\n",
       " 'https://dev.bg/company/jobs/mobile-development/',\n",
       " 'https://dev.bg/company/jobs/hardware-and-engineering/',\n",
       " 'https://dev.bg/company/jobs/front-end-development/',\n",
       " 'https://dev.bg/company/jobs/quality-assurance/',\n",
       " 'https://dev.bg/company/jobs/data-science/',\n",
       " 'https://dev.bg/company/jobs/customer-support/',\n",
       " 'https://dev.bg/company/jobs/full-stack-development/',\n",
       " 'https://dev.bg/company/jobs/pm-ba-and-more/',\n",
       " 'https://dev.bg/company/jobs/erp-crm-development/',\n",
       " 'https://dev.bg/company/jobs/ui-ux-and-arts/',\n",
       " 'https://dev.bg/company/jobs/technical-support/']"
      ]
     },
     "execution_count": 38,
     "metadata": {},
     "output_type": "execute_result"
    }
   ],
   "source": [
    "with open('DevBgLinks.txt') as file:\n",
    "    urls = [url.rstrip() for url in file]\n",
    "\n",
    "urls"
   ]
  },
  {
   "cell_type": "code",
   "execution_count": 39,
   "id": "642d32f9-b203-4639-b49f-32718142a01a",
   "metadata": {},
   "outputs": [],
   "source": [
    "class Job_offer:\n",
    "  def __init__(self, company_name, job_title,location,date_posted):\n",
    "    self.company_name = company_name\n",
    "    self.job_title = job_title\n",
    "    self.location = location\n",
    "    self.date_posted = date_posted\n",
    "    self.techstack = []"
   ]
  },
  {
   "cell_type": "code",
   "execution_count": 50,
   "id": "928959b3-e96f-4a52-83d0-1e3e90fc8433",
   "metadata": {},
   "outputs": [],
   "source": [
    "def get_soup(page_number,url):\n",
    "    url = f'{url}?_paged={page_number}'\n",
    "\n",
    "    driver = webdriver.Chrome()\n",
    "    try:\n",
    "        driver.get(url)\n",
    "\n",
    "        time.sleep(1)\n",
    "    \n",
    "        page_source = driver.page_source\n",
    "        soup = bs(page_source, 'html.parser')\n",
    "    \n",
    "    finally:\n",
    "        driver.quit()\n",
    "        return soup"
   ]
  },
  {
   "cell_type": "code",
   "execution_count": 51,
   "id": "51d81bcb-a4b3-4682-9edd-ef7421437f15",
   "metadata": {},
   "outputs": [],
   "source": [
    "def extract_job_object(job):\n",
    "    company = job.find('span', class_ = 'company-name').text.strip().replace('\\n','')\n",
    "    job_title = job.find('h6', class_ = 'job-title').text.strip().replace('\\n','')\n",
    "    date = job.find('span', class_ = 'date').text.strip().replace('\\n','')\n",
    "    location = job.find('span', class_ = 'badge').text.strip().replace('\\n','').replace('Комбиниран модел на работа, позволяващ на служителите съчетание между работа в офиса и работа от разстояние.','').replace('            ','/')\n",
    "    \n",
    "    tech_stack = set([])\n",
    "    tech_stack_images = job.find_all('img', class_='attachment-medium size-medium')\n",
    "    \n",
    "    for image in tech_stack_images:\n",
    "        tech_stack.add(image.get('title'))\n",
    "    \n",
    "    job_offer = Job_offer(company,job_title,location,date)\n",
    "    job_offer.tech_stack = tech_stack\n",
    "\n",
    "    return job_offer"
   ]
  },
  {
   "cell_type": "code",
   "execution_count": 58,
   "id": "25d34078-4064-469b-9638-546a3ac025f8",
   "metadata": {},
   "outputs": [
    {
     "name": "stdout",
     "output_type": "stream",
     "text": [
      "An exception : Service Manager \n",
      "An exception : SAP TRM LEAD DEVELOPER/ARCHITECT \n",
      "An exception : SAP CONSULTANT FOR SUPPLIER RISKS SOLUTIONS \n"
     ]
    }
   ],
   "source": [
    "job_offers = []\n",
    "for url in urls:\n",
    "    soup = get_soup(1,url) # get first page so we can acces pages count\n",
    "    max_pages_text = soup.find('a', class_= 'facetwp-page last').text\n",
    "    max_pages = int(max_pages_text)\n",
    "    for page_number in range(1,max_pages+1):\n",
    "        soup = get_soup(page_number,url)\n",
    "        jobs_in_page = soup.find_all('div', class_ = 'job-list-item')\n",
    "        for job in jobs_in_page:\n",
    "            try:\n",
    "                job_offer = extract_job_object(job)\n",
    "                job_offers.append(job_offer)\n",
    "            except:\n",
    "                print(f\"An exception :{job.find('h6',class_='job-title ab-title-placeholder ab-cb-title-placeholder').text}\") "
   ]
  },
  {
   "cell_type": "code",
   "execution_count": 53,
   "id": "459bf3b5-f431-4c03-a436-a33e7cb2ce82",
   "metadata": {},
   "outputs": [
    {
     "name": "stdout",
     "output_type": "stream",
     "text": [
      "2559\n"
     ]
    }
   ],
   "source": [
    "print(len(job_offers))"
   ]
  },
  {
   "cell_type": "code",
   "execution_count": 60,
   "id": "c05afbc1-e2a2-4621-8a8f-c1abe4e91915",
   "metadata": {},
   "outputs": [
    {
     "data": {
      "text/html": [
       "<div>\n",
       "<style scoped>\n",
       "    .dataframe tbody tr th:only-of-type {\n",
       "        vertical-align: middle;\n",
       "    }\n",
       "\n",
       "    .dataframe tbody tr th {\n",
       "        vertical-align: top;\n",
       "    }\n",
       "\n",
       "    .dataframe thead th {\n",
       "        text-align: right;\n",
       "    }\n",
       "</style>\n",
       "<table border=\"1\" class=\"dataframe\">\n",
       "  <thead>\n",
       "    <tr style=\"text-align: right;\">\n",
       "      <th></th>\n",
       "      <th>company_name</th>\n",
       "      <th>job_title</th>\n",
       "      <th>location</th>\n",
       "      <th>date_posted</th>\n",
       "      <th>tech_stack</th>\n",
       "    </tr>\n",
       "  </thead>\n",
       "  <tbody>\n",
       "  </tbody>\n",
       "</table>\n",
       "</div>"
      ],
      "text/plain": [
       "Empty DataFrame\n",
       "Columns: [company_name, job_title, location, date_posted, tech_stack]\n",
       "Index: []"
      ]
     },
     "execution_count": 60,
     "metadata": {},
     "output_type": "execute_result"
    }
   ],
   "source": [
    "table_headers = ['company_name','job_title','location','date_posted','tech_stack']\n",
    "\n",
    "df = pd.DataFrame(columns = table_headers)\n",
    "df"
   ]
  },
  {
   "cell_type": "code",
   "execution_count": 61,
   "id": "d22c29e1-5b4b-42c2-8cec-9821341b9a1b",
   "metadata": {},
   "outputs": [],
   "source": [
    "for offer in job_offers:\n",
    "    length = len(df)\n",
    "    row_data = [offer.company_name,offer.job_title,offer.location,offer.date_posted,', '.join(offer.tech_stack)] \n",
    "    df.loc[length] = row_data"
   ]
  },
  {
   "cell_type": "code",
   "execution_count": 62,
   "id": "380f6181-af68-4676-84cd-e961d9da317d",
   "metadata": {},
   "outputs": [],
   "source": [
    "df.to_csv('DevBG_Data.csv',index=False)"
   ]
  },
  {
   "cell_type": "code",
   "execution_count": null,
   "id": "9d40eedc-b705-4ada-aa0d-66513732fded",
   "metadata": {},
   "outputs": [],
   "source": []
  }
 ],
 "metadata": {
  "kernelspec": {
   "display_name": "Python 3 (ipykernel)",
   "language": "python",
   "name": "python3"
  },
  "language_info": {
   "codemirror_mode": {
    "name": "ipython",
    "version": 3
   },
   "file_extension": ".py",
   "mimetype": "text/x-python",
   "name": "python",
   "nbconvert_exporter": "python",
   "pygments_lexer": "ipython3",
   "version": "3.10.12"
  }
 },
 "nbformat": 4,
 "nbformat_minor": 5
}
