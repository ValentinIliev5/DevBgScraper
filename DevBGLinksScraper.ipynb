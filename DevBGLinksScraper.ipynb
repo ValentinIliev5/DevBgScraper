{
 "cells": [
  {
   "cell_type": "code",
   "execution_count": 14,
   "id": "6b43637d-3e3b-47e8-aa02-3bc71ec3c9d1",
   "metadata": {},
   "outputs": [],
   "source": [
    "from bs4 import BeautifulSoup as bs\n",
    "from selenium import webdriver\n",
    "import time\n",
    "import requests"
   ]
  },
  {
   "cell_type": "code",
   "execution_count": 15,
   "id": "4cdb87ef-a40a-4357-86e5-48759663403d",
   "metadata": {},
   "outputs": [],
   "source": [
    "url = 'https://dev.bg/'\n",
    "\n",
    "driver = webdriver.Chrome()\n",
    "try:\n",
    "    driver.get(url)\n",
    "\n",
    "    time.sleep(5)\n",
    "    \n",
    "    page_source = driver.page_source\n",
    "    soup = bs(page_source, 'html.parser')\n",
    "    \n",
    "finally:\n",
    "    driver.quit()"
   ]
  },
  {
   "cell_type": "code",
   "execution_count": 16,
   "id": "3af9258a-fb04-4075-9545-670690f5801d",
   "metadata": {},
   "outputs": [],
   "source": [
    "categories_block = soup.find('div',class_='section-category-block')\n",
    "categories = categories_block.find_all('a',class_ = 'category-name')"
   ]
  },
  {
   "cell_type": "code",
   "execution_count": 17,
   "id": "25a901b2-9f78-4a38-af4c-109fd1c6b494",
   "metadata": {},
   "outputs": [
    {
     "data": {
      "text/plain": [
       "['https://dev.bg/company/jobs/back-end-development/',\n",
       " 'https://dev.bg/company/jobs/operations/',\n",
       " 'https://dev.bg/company/jobs/mobile-development/',\n",
       " 'https://dev.bg/company/jobs/hardware-and-engineering/',\n",
       " 'https://dev.bg/company/jobs/front-end-development/',\n",
       " 'https://dev.bg/company/jobs/quality-assurance/',\n",
       " 'https://dev.bg/company/jobs/data-science/',\n",
       " 'https://dev.bg/company/jobs/customer-support/',\n",
       " 'https://dev.bg/company/jobs/full-stack-development/',\n",
       " 'https://dev.bg/company/jobs/pm-ba-and-more/',\n",
       " 'https://dev.bg/company/jobs/erp-crm-development/',\n",
       " 'https://dev.bg/company/jobs/ui-ux-and-arts/',\n",
       " 'https://dev.bg/company/jobs/technical-support/']"
      ]
     },
     "execution_count": 17,
     "metadata": {},
     "output_type": "execute_result"
    }
   ],
   "source": [
    "links = []\n",
    "for category in categories:\n",
    "    links.append(category.get('href'))\n",
    "\n",
    "links"
   ]
  },
  {
   "cell_type": "code",
   "execution_count": 18,
   "id": "f4a30da2-e8d2-400b-a93d-0c08814f4bd9",
   "metadata": {},
   "outputs": [],
   "source": [
    "with open('DevBgLinks.txt', 'w') as f:\n",
    "    for line in links:\n",
    "        f.write(f\"{line}\\n\")"
   ]
  }
 ],
 "metadata": {
  "kernelspec": {
   "display_name": "Python 3 (ipykernel)",
   "language": "python",
   "name": "python3"
  },
  "language_info": {
   "codemirror_mode": {
    "name": "ipython",
    "version": 3
   },
   "file_extension": ".py",
   "mimetype": "text/x-python",
   "name": "python",
   "nbconvert_exporter": "python",
   "pygments_lexer": "ipython3",
   "version": "3.10.12"
  }
 },
 "nbformat": 4,
 "nbformat_minor": 5
}
